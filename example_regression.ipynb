{
 "cells": [
  {
   "cell_type": "markdown",
   "metadata": {},
   "source": [
    "# Trying Task-Agnostic Amortized Inference of Gaussian Process Hyperparameters for regression:\n",
    "\n",
    "\n"
   ]
  },
  {
   "cell_type": "code",
   "execution_count": 2,
   "metadata": {},
   "outputs": [
    {
     "name": "stdout",
     "output_type": "stream",
     "text": [
      "Requirement already satisfied: easydict in /home/francois/workplace/venv/AHGP/lib/python3.6/site-packages (1.9)\r\n",
      "Requirement already satisfied: PyYAML in /home/francois/workplace/venv/AHGP/lib/python3.6/site-packages (5.3.1)\r\n",
      "Requirement already satisfied: tensorboardX in /home/francois/workplace/venv/AHGP/lib/python3.6/site-packages (2.1)\r\n",
      "Requirement already satisfied: amor-hyp-gp in /home/francois/workplace/venv/AHGP/lib/python3.6/site-packages (0.1.1)\r\n",
      "Requirement already satisfied: protobuf>=3.8.0 in /home/francois/workplace/venv/AHGP/lib/python3.6/site-packages (from tensorboardX) (3.14.0)\r\n",
      "Requirement already satisfied: six in /home/francois/workplace/venv/AHGP/lib/python3.6/site-packages (from tensorboardX) (1.15.0)\r\n",
      "Requirement already satisfied: numpy in /home/francois/workplace/venv/AHGP/lib/python3.6/site-packages (from tensorboardX) (1.19.4)\r\n"
     ]
    }
   ],
   "source": [
    "# first we make sure that we have everything:\n",
    "! pip install easydict PyYAML tensorboardX amor-hyp-gp "
   ]
  },
  {
   "cell_type": "code",
   "execution_count": 12,
   "metadata": {},
   "outputs": [
    {
     "name": "stdout",
     "output_type": "stream",
     "text": [
      "Requirement already satisfied: torch==1.6.0 in /home/francois/workplace/venv/AHGP/lib/python3.6/site-packages (1.6.0)\r\n",
      "Requirement already satisfied: numpy in /home/francois/workplace/venv/AHGP/lib/python3.6/site-packages (from torch==1.6.0) (1.19.4)\r\n",
      "Requirement already satisfied: future in /home/francois/workplace/venv/AHGP/lib/python3.6/site-packages (from torch==1.6.0) (0.18.2)\r\n"
     ]
    }
   ],
   "source": [
    "! pip install \"torch==1.6.0\""
   ]
  },
  {
   "cell_type": "code",
   "execution_count": 1,
   "metadata": {},
   "outputs": [
    {
     "ename": "ModuleNotFoundError",
     "evalue": "No module named 'torch'",
     "output_type": "error",
     "traceback": [
      "\u001b[0;31m---------------------------------------------------------------------------\u001b[0m",
      "\u001b[0;31mModuleNotFoundError\u001b[0m                       Traceback (most recent call last)",
      "\u001b[0;32m<ipython-input-1-042377bc8206>\u001b[0m in \u001b[0;36m<module>\u001b[0;34m\u001b[0m\n\u001b[1;32m      1\u001b[0m \u001b[0;31m# imports:\u001b[0m\u001b[0;34m\u001b[0m\u001b[0;34m\u001b[0m\u001b[0;34m\u001b[0m\u001b[0m\n\u001b[1;32m      2\u001b[0m \u001b[0;32mimport\u001b[0m \u001b[0mnumpy\u001b[0m \u001b[0;32mas\u001b[0m \u001b[0mnp\u001b[0m\u001b[0;34m\u001b[0m\u001b[0;34m\u001b[0m\u001b[0m\n\u001b[0;32m----> 3\u001b[0;31m \u001b[0;32mimport\u001b[0m \u001b[0mtorch\u001b[0m\u001b[0;34m\u001b[0m\u001b[0;34m\u001b[0m\u001b[0m\n\u001b[0m\u001b[1;32m      4\u001b[0m \u001b[0;34m\u001b[0m\u001b[0m\n\u001b[1;32m      5\u001b[0m \u001b[0;32mfrom\u001b[0m \u001b[0measydict\u001b[0m \u001b[0;32mimport\u001b[0m \u001b[0mEasyDict\u001b[0m \u001b[0;32mas\u001b[0m \u001b[0medict\u001b[0m\u001b[0;34m\u001b[0m\u001b[0;34m\u001b[0m\u001b[0m\n",
      "\u001b[0;31mModuleNotFoundError\u001b[0m: No module named 'torch'"
     ]
    }
   ],
   "source": [
    "# imports:\n",
    "import numpy as np\n",
    "import torch\n",
    "\n",
    "from easydict import EasyDict as edict\n",
    "from sklearn.utils import shuffle\n",
    "from sklearn.model_selection import train_test_split\n",
    "\n",
    "from scipy import stats\n",
    "\n",
    "import matplotlib.pyplot as plt\n",
    "\n",
    "# from the package:\n",
    "from ahgp.inference.hyperparam import hyperparam\n",
    "from ahgp.gp.gp_helper import cal_kern_spec_mix_nomu_sep, GP_noise, standardize\n",
    "from ahgp.inference.predict import predict"
   ]
  },
  {
   "cell_type": "code",
   "execution_count": 7,
   "metadata": {},
   "outputs": [],
   "source": [
    "import os\n",
    "import sys\n",
    "module_path = os.path.abspath(os.path.join('../AHGP/src'))\n",
    "if module_path not in sys.path:\n",
    "    sys.path.append(module_path)"
   ]
  },
  {
   "cell_type": "code",
   "execution_count": 6,
   "metadata": {},
   "outputs": [],
   "source": [
    "device = torch.device('cuda' if torch.cuda.is_available() else 'cpu')"
   ]
  },
  {
   "cell_type": "code",
   "execution_count": 5,
   "metadata": {},
   "outputs": [],
   "source": [
    "import math\n",
    "from ahgp.gp.gp_helper import cal_kern_spec_mix_nomu_sep, cal_marg_likelihood, standardize, cal_marg_likelihood_single_L, cal_kern_spec_mix_sep"
   ]
  },
  {
   "cell_type": "code",
   "execution_count": null,
   "metadata": {},
   "outputs": [],
   "source": []
  },
  {
   "cell_type": "code",
   "execution_count": 2,
   "metadata": {},
   "outputs": [],
   "source": [
    "\n",
    "filename = \"./data/regression_datasets/housing.data\"\n",
    "# filename = \"./data/regression_datasets/concrete.data\"\n",
    "model_config_filename = \"./config/model.yaml\""
   ]
  },
  {
   "cell_type": "code",
   "execution_count": 3,
   "metadata": {},
   "outputs": [
    {
     "ename": "NameError",
     "evalue": "name 'shuffle' is not defined",
     "output_type": "error",
     "traceback": [
      "\u001b[0;31m---------------------------------------------------------------------------\u001b[0m",
      "\u001b[0;31mNameError\u001b[0m                                 Traceback (most recent call last)",
      "\u001b[0;32m<ipython-input-3-4e1b2561bd84>\u001b[0m in \u001b[0;36m<module>\u001b[0;34m\u001b[0m\n\u001b[1;32m      2\u001b[0m \u001b[0mnpr\u001b[0m \u001b[0;34m=\u001b[0m \u001b[0mnp\u001b[0m\u001b[0;34m.\u001b[0m\u001b[0mrandom\u001b[0m\u001b[0;34m.\u001b[0m\u001b[0mRandomState\u001b[0m\u001b[0;34m(\u001b[0m\u001b[0mrand_seed\u001b[0m\u001b[0;34m)\u001b[0m\u001b[0;34m\u001b[0m\u001b[0;34m\u001b[0m\u001b[0m\n\u001b[1;32m      3\u001b[0m \u001b[0mdata\u001b[0m \u001b[0;34m=\u001b[0m \u001b[0mnp\u001b[0m\u001b[0;34m.\u001b[0m\u001b[0mloadtxt\u001b[0m\u001b[0;34m(\u001b[0m\u001b[0mfilename\u001b[0m\u001b[0;34m)\u001b[0m\u001b[0;34m\u001b[0m\u001b[0;34m\u001b[0m\u001b[0m\n\u001b[0;32m----> 4\u001b[0;31m \u001b[0mdata\u001b[0m \u001b[0;34m=\u001b[0m \u001b[0mshuffle\u001b[0m\u001b[0;34m(\u001b[0m\u001b[0mdata\u001b[0m\u001b[0;34m,\u001b[0m \u001b[0mrandom_state\u001b[0m\u001b[0;34m=\u001b[0m\u001b[0mnpr\u001b[0m\u001b[0;34m)\u001b[0m\u001b[0;34m\u001b[0m\u001b[0;34m\u001b[0m\u001b[0m\n\u001b[0m\u001b[1;32m      5\u001b[0m \u001b[0mx\u001b[0m\u001b[0;34m,\u001b[0m \u001b[0my\u001b[0m \u001b[0;34m=\u001b[0m \u001b[0mdata\u001b[0m\u001b[0;34m[\u001b[0m\u001b[0;34m:\u001b[0m\u001b[0;34m,\u001b[0m \u001b[0;34m:\u001b[0m\u001b[0;34m-\u001b[0m\u001b[0;36m1\u001b[0m\u001b[0;34m]\u001b[0m\u001b[0;34m,\u001b[0m \u001b[0mdata\u001b[0m\u001b[0;34m[\u001b[0m\u001b[0;34m:\u001b[0m\u001b[0;34m,\u001b[0m \u001b[0;34m-\u001b[0m\u001b[0;36m1\u001b[0m\u001b[0;34m]\u001b[0m\u001b[0;34m\u001b[0m\u001b[0;34m\u001b[0m\u001b[0m\n\u001b[1;32m      6\u001b[0m \u001b[0mdata_dim\u001b[0m \u001b[0;34m=\u001b[0m \u001b[0mx\u001b[0m\u001b[0;34m.\u001b[0m\u001b[0mshape\u001b[0m\u001b[0;34m[\u001b[0m\u001b[0;36m1\u001b[0m\u001b[0;34m]\u001b[0m\u001b[0;34m\u001b[0m\u001b[0;34m\u001b[0m\u001b[0m\n",
      "\u001b[0;31mNameError\u001b[0m: name 'shuffle' is not defined"
     ]
    }
   ],
   "source": [
    "rand_seed = 10\n",
    "npr = np.random.RandomState(rand_seed)\n",
    "data = np.loadtxt(filename)\n",
    "data = shuffle(data, random_state=npr)\n",
    "x, y = data[:, :-1], data[:, -1]\n",
    "data_dim = x.shape[1]\n",
    "# normalize x and y, AHGP will take in normalized x and y only\n",
    "\n",
    "x_t, x_v, y_t, y_v = train_test_split(x, y, test_size=.1, random_state=npr)\n",
    "num_data = x_t.shape[0]\n",
    "# normalize x and y, AHGP will take in normalized x and y only\n",
    "x_t, x_v, _, _ = standardize(x_t, x_v)\n",
    "x_t = x_t*0.1\n",
    "x_v = x_v*0.1\n",
    "y_t, mean_y_train, std_y_train = standardize(y_t)\n",
    "\n",
    "\n",
    "mu_test, var_test = predict(x_t,y_t,x_v,model_config_filename,use_gpu=False)\n",
    "\n",
    "mu_test = mu_test * std_y_train + mean_y_train\n",
    "var_test = var_test * std_y_train**2\n",
    "\n",
    "rmse = np.mean((mu_test - y_v) ** 2) ** .5\n",
    "log_likelihood = np.mean(np.log(stats.norm.pdf(\n",
    "                          y_v,\n",
    "                          loc=mu_test,\n",
    "                          scale=var_test ** 0.5)))\n",
    "print(rmse)\n",
    "print(log_likelihood)"
   ]
  },
  {
   "cell_type": "code",
   "execution_count": null,
   "metadata": {},
   "outputs": [],
   "source": []
  },
  {
   "cell_type": "code",
   "execution_count": null,
   "metadata": {},
   "outputs": [],
   "source": []
  },
  {
   "cell_type": "code",
   "execution_count": null,
   "metadata": {},
   "outputs": [],
   "source": []
  }
 ],
 "metadata": {
  "kernelspec": {
   "display_name": "AHGP",
   "language": "python",
   "name": "ahgp"
  },
  "language_info": {
   "codemirror_mode": {
    "name": "ipython",
    "version": 3
   },
   "file_extension": ".py",
   "mimetype": "text/x-python",
   "name": "python",
   "nbconvert_exporter": "python",
   "pygments_lexer": "ipython3",
   "version": "3.6.9"
  }
 },
 "nbformat": 4,
 "nbformat_minor": 4
}
